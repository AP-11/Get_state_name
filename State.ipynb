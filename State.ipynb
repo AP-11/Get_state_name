{
  "cells": [
    {
      "cell_type": "code",
      "execution_count": null,
      "metadata": {
        "id": "11gVP2_0lo9b"
      },
      "outputs": [],
      "source": [
        "import pandas as pd\n",
        "df = pd.read_csv('coordinates.csv')\n",
        "df = df.dropna()"
      ]
    },
    {
      "cell_type": "code",
      "execution_count": null,
      "metadata": {
        "id": "42Ygh0V1l5Uh"
      },
      "outputs": [],
      "source": [
        "from geopy.geocoders import Nominatim"
      ]
    },
    {
      "cell_type": "code",
      "execution_count": null,
      "metadata": {
        "id": "VQqJNALil-gk"
      },
      "outputs": [],
      "source": [
        "geolocator = Nominatim(user_agent=\"geoapiExercises\",timeout=None)"
      ]
    },
    {
      "cell_type": "markdown",
      "source": [
        "This method makes use of \"Point\" which basically is a collection of information in the form (latitude,longitude,altitude)"
      ],
      "metadata": {
        "id": "VPQxEi1O4FFg"
      }
    },
    {
      "cell_type": "code",
      "execution_count": null,
      "metadata": {
        "id": "Zb5C4mrImChk"
      },
      "outputs": [],
      "source": [
        "def extract_state(a):\n",
        "   lat = a.split(',')[0].lstrip() # To extract lat from brackets\n",
        "   lon = a.split(',')[1].lstrip() # To extract lon from brackets\n",
        "   Latitude = lat\n",
        "   Longitude = lon\n",
        "  \n",
        "   location = geolocator.reverse(Latitude+\",\"+Longitude)\n",
        "   address = location.raw['address']\n",
        "   if address is not None :\n",
        "     state = address.get('state', '') #can similarly be used to extract city and district names\n",
        "     return state\n",
        "   "
      ]
    },
    {
      "cell_type": "code",
      "execution_count": null,
      "metadata": {
        "colab": {
          "background_save": true
        },
        "id": "SGvaROQHmEsD"
      },
      "outputs": [],
      "source": [
        "from tqdm.auto import tqdm\n",
        "tqdm.pandas()\n",
        "df = df.copy()\n",
        "df.dropna\n",
        "df['states'] = df['point'].progress_apply(extract_state)"
      ]
    },
    {
      "cell_type": "code",
      "execution_count": null,
      "metadata": {
        "id": "0y2j3XoJmJ2B"
      },
      "outputs": [],
      "source": [
        "df.tail(5)"
      ]
    },
    {
      "cell_type": "code",
      "execution_count": null,
      "metadata": {
        "id": "eohWDtkbmOLn"
      },
      "outputs": [],
      "source": [
        "df.to_csv('state.csv')"
      ]
    }
  ],
  "metadata": {
    "colab": {
      "name": "State.ipynb",
      "provenance": []
    },
    "kernelspec": {
      "display_name": "Python 3",
      "name": "python3"
    },
    "language_info": {
      "name": "python"
    }
  },
  "nbformat": 4,
  "nbformat_minor": 0
}